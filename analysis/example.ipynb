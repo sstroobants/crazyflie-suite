{
 "cells": [
  {
   "cell_type": "code",
   "execution_count": null,
   "metadata": {},
   "outputs": [],
   "source": [
    "from pathlib import Path\n",
    "\n",
    "%matplotlib notebook\n",
    "import matplotlib.pyplot as plt\n",
    "import numpy as np\n",
    "import pandas as pd\n",
    "\n",
    "datadir = Path(\"../data\")"
   ]
  },
  {
   "cell_type": "markdown",
   "metadata": {},
   "source": [
    "# Data"
   ]
  },
  {
   "cell_type": "code",
   "execution_count": null,
   "metadata": {},
   "outputs": [],
   "source": [
    "# File names\n",
    "fileroot = \"kalman+twr+flow+1,5m+5scans.csv\"\n",
    "flightdata = datadir / (\"exampledata+\" + fileroot)\n",
    "loaddata = datadir / (\"exampleloads+\" + fileroot)\n",
    "stackdata = datadir / (\"examplestacksleft+\" + fileroot)\n",
    "\n",
    "# Get DataFrames\n",
    "flightdata = pd.read_csv(flightdata, skipinitialspace=True)\n",
    "loaddata = pd.read_csv(loaddata)\n",
    "stackdata = pd.read_csv(stackdata)\n",
    "flightdata.head()"
   ]
  },
  {
   "cell_type": "code",
   "execution_count": null,
   "metadata": {},
   "outputs": [],
   "source": [
    "flightdata.columns"
   ]
  },
  {
   "cell_type": "code",
   "execution_count": null,
   "metadata": {},
   "outputs": [],
   "source": [
    "loaddata.columns"
   ]
  },
  {
   "cell_type": "markdown",
   "metadata": {},
   "source": [
    "# Plotting"
   ]
  },
  {
   "cell_type": "markdown",
   "metadata": {},
   "source": [
    "### Task load and stack left"
   ]
  },
  {
   "cell_type": "code",
   "execution_count": null,
   "metadata": {},
   "outputs": [],
   "source": [
    "# Kalman, LPS, flow, Zranger load\n",
    "plt.plot(loaddata[\"KALMAN\"], label=\"Kalman\")\n",
    "plt.plot(loaddata[\"LPS\"], label=\"LPS\")\n",
    "plt.plot(loaddata[\"FLOW\"], label=\"flow\")\n",
    "plt.plot(loaddata[\"ZRANGER2\"], label=\"Zranger\")\n",
    "plt.ylabel(\"load\")\n",
    "plt.grid()\n",
    "plt.legend()\n",
    "plt.show()"
   ]
  },
  {
   "cell_type": "code",
   "execution_count": null,
   "metadata": {},
   "outputs": [],
   "source": [
    "# Same, but stack left\n",
    "plt.plot(stackdata[\"KALMAN\"], label=\"Kalman\")\n",
    "plt.plot(stackdata[\"LPS\"], label=\"LPS\")\n",
    "plt.plot(stackdata[\"FLOW\"], label=\"flow\")\n",
    "plt.plot(stackdata[\"ZRANGER2\"], label=\"Zranger\")\n",
    "plt.ylabel(\"stack left\")\n",
    "plt.grid()\n",
    "plt.legend()\n",
    "plt.show()"
   ]
  },
  {
   "cell_type": "markdown",
   "metadata": {},
   "source": [
    "### Flight profile"
   ]
  },
  {
   "cell_type": "code",
   "execution_count": null,
   "metadata": {},
   "outputs": [],
   "source": [
    "# Kalman estimation of X, Y\n",
    "# Skip bad initial values during ascent\n",
    "plt.plot(flightdata[\"stateX\"][600:], flightdata[\"stateY\"][600:])\n",
    "plt.xlabel(\"x\"); plt.ylabel(\"y\")\n",
    "plt.grid()\n",
    "plt.show()"
   ]
  },
  {
   "cell_type": "code",
   "execution_count": null,
   "metadata": {},
   "outputs": [],
   "source": [
    "# Kalman estimation of X, Z\n",
    "# Skip bad initial values during ascent\n",
    "plt.plot(flightdata[\"stateX\"][600:], flightdata[\"stateZ\"][600:])\n",
    "plt.xlabel(\"x\"); plt.ylabel(\"z\")\n",
    "plt.grid()\n",
    "plt.show()"
   ]
  }
 ],
 "metadata": {
  "kernelspec": {
   "display_name": "Python 3",
   "language": "python",
   "name": "python3"
  },
  "language_info": {
   "codemirror_mode": {
    "name": "ipython",
    "version": 3
   },
   "file_extension": ".py",
   "mimetype": "text/x-python",
   "name": "python",
   "nbconvert_exporter": "python",
   "pygments_lexer": "ipython3",
   "version": "3.6.9"
  }
 },
 "nbformat": 4,
 "nbformat_minor": 4
}
